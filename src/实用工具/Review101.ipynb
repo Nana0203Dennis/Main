{
 "cells": [
  {
   "cell_type": "markdown",
   "metadata": {},
   "source": [
    "# 算法与数据结构"
   ]
  },
  {
   "cell_type": "code",
   "execution_count": null,
   "metadata": {},
   "outputs": [],
   "source": [
    "from pythonds.basic.stack import Stack"
   ]
  },
  {
   "cell_type": "markdown",
   "metadata": {},
   "source": [
    "Stack can be used to check parlindromes : {}[]()"
   ]
  },
  {
   "cell_type": "code",
   "execution_count": null,
   "metadata": {},
   "outputs": [],
   "source": [
    "def parCheck(String):\n",
    "    s = Stack()\n",
    "    balanced = True\n",
    "    index = 0\n",
    "\n",
    "    while index < len(String) and balanced:\n",
    "        symbol = String[index]\n",
    "        if symbol in [\"(\",\"{\",\"[\"]:\n",
    "            s.push(symbol)\n",
    "        else:\n",
    "            if s.isEmpty():\n",
    "                balanced = False\n",
    "            else:\n",
    "                s.pop()\n",
    "        \n",
    "        index += 1\n",
    "    if balanced and s.isEmpty():\n",
    "        return True\n",
    "    else:\n",
    "        return False"
   ]
  },
  {
   "cell_type": "code",
   "execution_count": null,
   "metadata": {},
   "outputs": [],
   "source": [
    "def isValid(s) -> bool:\n",
    "            \n",
    "    d = {'(':')', '{':'}','[':']'}\n",
    "    stack = []\n",
    "    for i in s:\n",
    "        if i in d:  # 1\n",
    "            stack.append(i)\n",
    "        elif len(stack) == 0 or d[stack.pop()] != i:  # 2\n",
    "            return False\n",
    "    return len(stack) == 0 # 3"
   ]
  },
  {
   "cell_type": "code",
   "execution_count": null,
   "metadata": {},
   "outputs": [],
   "source": [
    "parCheck(\"{[{}}}{{()}}]}\")\n",
    "\n",
    "print(isValid(\"()\"))"
   ]
  },
  {
   "cell_type": "code",
   "execution_count": null,
   "metadata": {},
   "outputs": [],
   "source": [
    "s = [i for i in range(26)]\n",
    "dp = {len(s):1}\n",
    "dp"
   ]
  },
  {
   "cell_type": "code",
   "execution_count": null,
   "metadata": {},
   "outputs": [],
   "source": [
    "# Time Complexity: O(N)\n",
    "# Space Complexity: O(N)\n",
    "# This solution can be further space-optimized to be O(1). Let's think about it :D\n",
    "class Solution:\n",
    "    # number of ways to do something -> think about dp\n",
    "    def numDecodings(self, s: str) -> int:\n",
    "        # cannot map to any character due to the leading zero\n",
    "        if s[0] == '0':\n",
    "            return 0\n",
    "        n = len(s)\n",
    "        # dp[i]: number of ways of decoding the substring s[:i]\n",
    "        dp = [0 for _ in range(n + 1)]\n",
    "        # base case\n",
    "        dp[0] = 1\n",
    "        for i in range(1, n + 1):\n",
    "            # check single digit decode\n",
    "            # valid deocde is possible only when s[i - 1] is not zero\n",
    "            # if so, take the previous state dp[i - 1]\n",
    "            # e.g. AB - 1[2]\n",
    "            if s[i - 1] != '0':\n",
    "                dp[i] = dp[i - 1]\n",
    "            # check double digit decode\n",
    "            # by looking at the previous two digits\n",
    "            # if the substring belongs to the range [10 - 26]\n",
    "            # then add the previous state dp[i - 2]\n",
    "            # e.g. L - [12]\n",
    "            if i >= 2:\n",
    "                # or you can use `stoi(s.substr(i - 2, 2))`\n",
    "                x = int(s[i - 2: i])\n",
    "                # check the range\n",
    "                if 10 <= x <= 26:\n",
    "                    dp[i] += dp[i - 2]\n",
    "        return dp[n]"
   ]
  },
  {
   "cell_type": "code",
   "execution_count": null,
   "metadata": {},
   "outputs": [],
   "source": [
    "class Solution:\n",
    "    def coinChange(self, coins, amount: int) -> int:\n",
    "        dp = [amount + 1] * (amount + 1)\n",
    "        dp[0] = 0\n",
    "\n",
    "        for a in range(1, amount + 1):\n",
    "            for c in coins:\n",
    "                if a - c >= 0:\n",
    "                    dp[a] = min(dp[a], 1 + dp[a - c])\n",
    "        return dp[amount] if dp[amount] != amount + 1 else -1"
   ]
  },
  {
   "cell_type": "code",
   "execution_count": null,
   "metadata": {},
   "outputs": [],
   "source": [
    "amount = 11\n",
    "coins = [1,2,5]\n",
    "# optimal solution dp[i]: the least coin required for amount i\n",
    "dp = [amount + 1] * (amount + 1)\n",
    "# initialize dp as [0,1,2,...,amount] || len(dp) = amount + 1, with any values > amount\n",
    "dp[0] = 0\n",
    "# for 0 amount we need 0 coins\n",
    "for a in range(1,amount +1):\n",
    "    # for any possible amount in range(1,amount+1)\n",
    "    for c in coins:\n",
    "        # for the coin in coins, e.g. 1,2,5\n",
    "        if a-c >= 0:\n",
    "            # if there is a valid solution (that we need some coins to make up #a)\n",
    "            dp[a] = min(dp[a], 1+ dp[a-c])\n",
    "            # we define for the amount a, we need either the current coins, for example:\n",
    "\n",
    "            # (amount 1 need 1 coin minimum\n",
    "            # amount 2 need 1 coin\n",
    "            # amount 3 need 2 coin\n",
    "            # amount 4 need 2 coin\n",
    "            # amount 5 need 1 coin (value 5)\n",
    "            # amount 6 need 2 coin (1+5))\n",
    "\n",
    "            # If there is a optimal solution for amount 11, we determine if coins for amount 10 ( 11 - 1 ) + 1 coin needed \n",
    "            # lesser coins than just 11, then 11-2, then 11-5, etc.\n",
    "print(dp[amount] if dp[amount] != amount + 1 else -1)\n",
    "# return the optimal dp for amount, only if there is a solution, that dp[amount] != (initialized value), then we return -1\n",
    "\n"
   ]
  },
  {
   "cell_type": "code",
   "execution_count": null,
   "metadata": {},
   "outputs": [],
   "source": [
    "import math\n",
    "\n",
    "def printPrimes(n:int):\n",
    "    sumStep = 0\n",
    "    print(2,'\\n')\n",
    "    for i in range(3, n, 2):\n",
    "        flag = True\n",
    "        jStop = math.sqrt(i)\n",
    "        for j in range(3,int(math.sqrt(n)),2):\n",
    "            sumStep = sumStep + 1\n",
    "            if not (i % j):\n",
    "                flag = False\n",
    "                break\n",
    "        \n",
    "        if flag:\n",
    "            print(i,\"\\n\")\n",
    "    \n",
    "    return print(f\"Steps taken:{sumStep}\")\n",
    "\n"
   ]
  },
  {
   "cell_type": "code",
   "execution_count": null,
   "metadata": {},
   "outputs": [],
   "source": [
    "printPrimes(50)"
   ]
  },
  {
   "cell_type": "code",
   "execution_count": 18,
   "metadata": {},
   "outputs": [],
   "source": [
    "s2 = \"abccbaopli\"\n",
    "s1 = 'poil'"
   ]
  },
  {
   "cell_type": "code",
   "execution_count": 19,
   "metadata": {},
   "outputs": [],
   "source": [
    "from collections import Counter"
   ]
  },
  {
   "cell_type": "code",
   "execution_count": 20,
   "metadata": {},
   "outputs": [
    {
     "data": {
      "text/plain": [
       "Counter({'p': 1, 'o': 1, 'i': 1, 'l': 1})"
      ]
     },
     "execution_count": 20,
     "metadata": {},
     "output_type": "execute_result"
    }
   ],
   "source": [
    "Counter(s1)"
   ]
  },
  {
   "cell_type": "code",
   "execution_count": 21,
   "metadata": {},
   "outputs": [],
   "source": [
    "def checkInclusion(s1: str, s2: str) -> bool:\n",
    "    cntr, w, matched = Counter(s1), len(s1), 0   \n",
    "\n",
    "    for i in range(len(s2)):\n",
    "        if s2[i] in cntr: \n",
    "            cntr[s2[i]] -= 1\n",
    "            if cntr[s2[i]] == 0:\n",
    "                matched += 1\n",
    "        if i >= w and s2[i-w] in cntr: \n",
    "            if cntr[s2[i-w]] == 0:\n",
    "                matched -= 1\n",
    "            cntr[s2[i-w]] += 1\n",
    "\n",
    "        if matched == len(cntr):\n",
    "            return True\n",
    "\n",
    "    return False"
   ]
  },
  {
   "cell_type": "code",
   "execution_count": 24,
   "metadata": {},
   "outputs": [
    {
     "data": {
      "text/plain": [
       "True"
      ]
     },
     "execution_count": 24,
     "metadata": {},
     "output_type": "execute_result"
    }
   ],
   "source": [
    "checkInclusion(s1,s2)"
   ]
  },
  {
   "cell_type": "code",
   "execution_count": null,
   "metadata": {},
   "outputs": [],
   "source": []
  }
 ],
 "metadata": {
  "kernelspec": {
   "display_name": "Python 3.10.7 64-bit",
   "language": "python",
   "name": "python3"
  },
  "language_info": {
   "codemirror_mode": {
    "name": "ipython",
    "version": 3
   },
   "file_extension": ".py",
   "mimetype": "text/x-python",
   "name": "python",
   "nbconvert_exporter": "python",
   "pygments_lexer": "ipython3",
   "version": "3.10.7"
  },
  "orig_nbformat": 4,
  "vscode": {
   "interpreter": {
    "hash": "b0fa6594d8f4cbf19f97940f81e996739fb7646882a419484c72d19e05852a7e"
   }
  }
 },
 "nbformat": 4,
 "nbformat_minor": 2
}
